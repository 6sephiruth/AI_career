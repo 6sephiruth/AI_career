{
 "cells": [
  {
   "cell_type": "code",
   "execution_count": 1,
   "metadata": {},
   "outputs": [],
   "source": [
    "import os\n",
    "import pickle"
   ]
  },
  {
   "cell_type": "code",
   "execution_count": 2,
   "metadata": {},
   "outputs": [],
   "source": [
    "import pandas as pd\n",
    "import time\n",
    "\n",
    "good_data = pd.read_csv(\"./good.csv\")\n",
    "bad_data = pd.read_csv(\"./bad.csv\")"
   ]
  },
  {
   "cell_type": "code",
   "execution_count": 3,
   "metadata": {},
   "outputs": [
    {
     "ename": "SyntaxError",
     "evalue": "EOL while scanning string literal (<ipython-input-3-3c110e23a7c9>, line 4)",
     "output_type": "error",
     "traceback": [
      "\u001b[0;36m  File \u001b[0;32m\"<ipython-input-3-3c110e23a7c9>\"\u001b[0;36m, line \u001b[0;32m4\u001b[0m\n\u001b[0;31m    if os.path.exists(f'./fix_good_datas') and os.path.exists(f'./fix_bad_data') and os.path.exists(f'./drop_cols):\u001b[0m\n\u001b[0m                                                                                                                   ^\u001b[0m\n\u001b[0;31mSyntaxError\u001b[0m\u001b[0;31m:\u001b[0m EOL while scanning string literal\n"
     ]
    }
   ],
   "source": [
    "good_data = good_data.astype(int)\n",
    "bad_data = bad_data.astype(int)\n",
    "\n",
    "if os.path.exists(f'./fix_good_datas') and os.path.exists(f'./fix_bad_data') and os.path.exists(f'./drop_cols'):\n",
    "    fix_good_data = pickle.load(open(f'./fix_good_datas','rb'))\n",
    "    fix_bad_data = pickle.load(open(f'./fix_bad_data','rb'))\n",
    "    drop_cols = pickle.load(open(f'./drop_cols','rb'))\n",
    "    \n",
    "else:\n",
    "\n",
    "    drop_cols = [Unnamed: 0\t]\n",
    "    print(drop_cols)\n",
    "    for col in bad_data.columns:\n",
    "        if bad_data[col].sum() < bad_data.sum().mean():\n",
    "            drop_cols.append(col)\n",
    "\n",
    "    fix_good_data = good_data.drop(drop_cols, 1)\n",
    "    fix_bad_data = bad_data.drop(drop_cols, 1)\n",
    "\n",
    "    pickle.dump(fix_good_data, open(f'./fix_good_data','wb'))\n",
    "    pickle.dump(fix_bad_data, open(f'./fix_bad_data','wb'))\n",
    "    pickle.dump(drop_cols, open(f'./drop_cols','wb'))    "
   ]
  },
  {
   "cell_type": "code",
   "execution_count": null,
   "metadata": {},
   "outputs": [],
   "source": [
    "drop_cols = [Unnamed: 0\t]\n",
    "\n",
    "for col in bad_data.columns:\n",
    "    if bad_data[col].sum() < bad_data.sum().mean():\n",
    "        drop_cols.append(col)\n",
    "\n",
    "fix_good_data = good_data.drop(drop_cols, 1)\n",
    "fix_bad_data = bad_data.drop(drop_cols, 1)"
   ]
  },
  {
   "cell_type": "code",
   "execution_count": null,
   "metadata": {},
   "outputs": [],
   "source": [
    "drop_cols"
   ]
  },
  {
   "cell_type": "code",
   "execution_count": null,
   "metadata": {},
   "outputs": [],
   "source": [
    "if os.path.exists(f'./fix_good_datas') and os.path.exists(f'./fix_bad_data'):\n",
    "    fix_good_data = pickle.load(open(f'./fix_good_datas','rb'))\n",
    "    fix_bad_data = pickle.load(open(f'./fix_bad_data','rb'))\n",
    "    \n",
    "else:\n",
    "    pickle.dump(fix_good_data, open(f'./fix_good_data','wb'))\n",
    "    pickle.dump(fix_bad_data, open(f'./fix_bad_data','wb'))\n"
   ]
  },
  {
   "cell_type": "code",
   "execution_count": null,
   "metadata": {},
   "outputs": [],
   "source": [
    "for i in fix_bad_data.columns:\n",
    "    print(fix_bad_data[i].sum)\n",
    "    time.sleep(1)"
   ]
  },
  {
   "cell_type": "code",
   "execution_count": null,
   "metadata": {},
   "outputs": [],
   "source": [
    "fix_good_data"
   ]
  },
  {
   "cell_type": "code",
   "execution_count": null,
   "metadata": {},
   "outputs": [],
   "source": []
  }
 ],
 "metadata": {
  "kernelspec": {
   "display_name": "Python 3",
   "language": "python",
   "name": "python3"
  },
  "language_info": {
   "codemirror_mode": {
    "name": "ipython",
    "version": 3
   },
   "file_extension": ".py",
   "mimetype": "text/x-python",
   "name": "python",
   "nbconvert_exporter": "python",
   "pygments_lexer": "ipython3",
   "version": "3.8.10"
  }
 },
 "nbformat": 4,
 "nbformat_minor": 4
}
