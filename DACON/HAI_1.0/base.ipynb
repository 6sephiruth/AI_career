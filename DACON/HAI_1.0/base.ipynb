{
 "cells": [
  {
   "cell_type": "markdown",
   "metadata": {},
   "source": [
    "# HAI 2.0 Baseline Model\n",
    "\n",
    "본 문서는 HAICon을 위한 베이스라인 모델을 제공합니다.\n",
    "\n",
    "Recurrent neural network(RNN)을 이용했으며 구현 시 라이브러리는 PyTorch를 이용했습니다.\n",
    "\n",
    "GPU가 1개 있다고 가정하고 코드가 작성되었습니다.\n",
    "CPU로만 구동해보실 경우에는 모델과 batch feed 코드에서 .cuda()를 호출하지 않으시면 됩니다.\n",
    "\n",
    "구현 편의성을 위해 전역 변수가 많이 사용되었습니다.\n",
    "양해 바랍니다.\n",
    "전역 변수는 모두 대문자로 명명했습니다."
   ]
  },
  {
   "cell_type": "code",
   "execution_count": null,
   "metadata": {},
   "outputs": [],
   "source": [
    "%reload_ext watermark\n",
    "#%reload_ext lab_black"
   ]
  },
  {
   "cell_type": "markdown",
   "metadata": {},
   "source": [
    "위의 extension은 code format과 버전 출력을 위해서 사용한 것입니다. 실행하지 않아도 됩니다."
   ]
  },
  {
   "cell_type": "code",
   "execution_count": null,
   "metadata": {},
   "outputs": [],
   "source": [
    "%watermark -v -p dateutil,numpy,matplotlib,pandas,torch,tqdm,TaPR_pkg,cv2"
   ]
  },
  {
   "cell_type": "markdown",
   "metadata": {},
   "source": [
    "위 목록은 실행을 위해 의존성을 가지는 파이썬 패키지입니다.\n",
    "cv2는 opencv-python 패키지를 설치하시면 됩니다.\n",
    "TaPR 사용을 위해서는 이 패키지가 필요합니다.\n",
    "\n",
    "TaPR은 평가를 위해 제공되는 패키지로 동일 폴더에 있는 \"eTaPR-1.12-py3-none-any.whl\" 파일을 설치하시면 됩니다."
   ]
  },
  {
   "cell_type": "code",
   "execution_count": 1,
   "metadata": {},
   "outputs": [],
   "source": [
    "import os\n",
    "import sys\n",
    "\n",
    "from pathlib import Path\n",
    "from datetime import timedelta\n",
    "\n",
    "import dateutil\n",
    "import numpy as np\n",
    "import matplotlib.pyplot as plt\n",
    "import pandas as pd\n",
    "import torch\n",
    "\n",
    "from torch.utils.data import Dataset, DataLoader\n",
    "from tqdm.notebook import trange\n",
    "from TaPR_pkg import etapr\n",
    "\n",
    "os.environ['CUDA_VISIBLE_DEVICES'] = '3'"
   ]
  },
  {
   "cell_type": "markdown",
   "metadata": {},
   "source": [
    "## 데이터 전처리\n",
    "\n",
    "학습 데이터와 테스트 데이터는 CSV로 제공됩니다.\n",
    "HAI 2.0은 단일 파일이 아니라 여러 파일로 제공되기 때문에 디렉토리 안에 있는 모든 CSV를 읽습니다."
   ]
  },
  {
   "cell_type": "code",
   "execution_count": 2,
   "metadata": {},
   "outputs": [
    {
     "data": {
      "text/plain": [
       "[PosixPath('dataset/training/train1.csv'),\n",
       " PosixPath('dataset/training/train2.csv'),\n",
       " PosixPath('dataset/training/train3.csv')]"
      ]
     },
     "execution_count": 2,
     "metadata": {},
     "output_type": "execute_result"
    }
   ],
   "source": [
    "TRAIN_DATASET = sorted([x for x in Path(\"./dataset/training/\").glob(\"*.csv\")])\n",
    "TRAIN_DATASET"
   ]
  },
  {
   "cell_type": "code",
   "execution_count": 3,
   "metadata": {},
   "outputs": [
    {
     "data": {
      "text/plain": [
       "[PosixPath('dataset/testing/test1.csv'),\n",
       " PosixPath('dataset/testing/test2.csv'),\n",
       " PosixPath('dataset/testing/test3.csv'),\n",
       " PosixPath('dataset/testing/test4.csv')]"
      ]
     },
     "execution_count": 3,
     "metadata": {},
     "output_type": "execute_result"
    }
   ],
   "source": [
    "TEST_DATASET = sorted([x for x in Path(\"./dataset/testing/\").glob(\"*.csv\")])\n",
    "TEST_DATASET"
   ]
  },
  {
   "cell_type": "code",
   "execution_count": 4,
   "metadata": {},
   "outputs": [
    {
     "data": {
      "text/plain": [
       "[PosixPath('dataset/validation/validation.csv')]"
      ]
     },
     "execution_count": 4,
     "metadata": {},
     "output_type": "execute_result"
    }
   ],
   "source": [
    "VALIDATION_DATASET = sorted([x for x in Path(\"./dataset/validation/\").glob(\"*.csv\")])\n",
    "VALIDATION_DATASET"
   ]
  },
  {
   "cell_type": "code",
   "execution_count": 5,
   "metadata": {},
   "outputs": [],
   "source": [
    "def dataframe_from_csv(target):\n",
    "    return pd.read_csv(target).rename(columns=lambda x: x.strip())\n",
    "\n",
    "def dataframe_from_csvs(targets):\n",
    "    return pd.concat([dataframe_from_csv(x) for x in targets])"
   ]
  },
  {
   "cell_type": "markdown",
   "metadata": {},
   "source": [
    "TRAIN_DF_RAW는 각각 학습 데이터를 하나의 Pandas Dataframe으로 로드한 결과입니다.\n",
    "각 필드가 가지는 값의 범위는 크게 다릅니다.\n",
    "정규화가 필요합니다."
   ]
  },
  {
   "cell_type": "code",
   "execution_count": 6,
   "metadata": {},
   "outputs": [
    {
     "data": {
      "text/html": [
       "<div>\n",
       "<style scoped>\n",
       "    .dataframe tbody tr th:only-of-type {\n",
       "        vertical-align: middle;\n",
       "    }\n",
       "\n",
       "    .dataframe tbody tr th {\n",
       "        vertical-align: top;\n",
       "    }\n",
       "\n",
       "    .dataframe thead th {\n",
       "        text-align: right;\n",
       "    }\n",
       "</style>\n",
       "<table border=\"1\" class=\"dataframe\">\n",
       "  <thead>\n",
       "    <tr style=\"text-align: right;\">\n",
       "      <th></th>\n",
       "      <th>time</th>\n",
       "      <th>C01</th>\n",
       "      <th>C02</th>\n",
       "      <th>C03</th>\n",
       "      <th>C04</th>\n",
       "      <th>C05</th>\n",
       "      <th>C06</th>\n",
       "      <th>C07</th>\n",
       "      <th>C08</th>\n",
       "      <th>C09</th>\n",
       "      <th>...</th>\n",
       "      <th>C70</th>\n",
       "      <th>C71</th>\n",
       "      <th>C72</th>\n",
       "      <th>C73</th>\n",
       "      <th>C74</th>\n",
       "      <th>C75</th>\n",
       "      <th>C76</th>\n",
       "      <th>C77</th>\n",
       "      <th>C78</th>\n",
       "      <th>C79</th>\n",
       "    </tr>\n",
       "  </thead>\n",
       "  <tbody>\n",
       "    <tr>\n",
       "      <th>0</th>\n",
       "      <td>2020-07-11 00:00:00</td>\n",
       "      <td>395.19528</td>\n",
       "      <td>12</td>\n",
       "      <td>10</td>\n",
       "      <td>52.80456</td>\n",
       "      <td>-1.2648</td>\n",
       "      <td>-1.87531</td>\n",
       "      <td>779.59595</td>\n",
       "      <td>28.02645</td>\n",
       "      <td>10832.0</td>\n",
       "      <td>...</td>\n",
       "      <td>808.29620</td>\n",
       "      <td>0.0</td>\n",
       "      <td>1.36810</td>\n",
       "      <td>8.79882</td>\n",
       "      <td>35.43700</td>\n",
       "      <td>12.01782</td>\n",
       "      <td>305.03113</td>\n",
       "      <td>301.35992</td>\n",
       "      <td>33.6555</td>\n",
       "      <td>6.0951</td>\n",
       "    </tr>\n",
       "    <tr>\n",
       "      <th>1</th>\n",
       "      <td>2020-07-11 00:00:01</td>\n",
       "      <td>395.14420</td>\n",
       "      <td>12</td>\n",
       "      <td>10</td>\n",
       "      <td>52.78931</td>\n",
       "      <td>-1.3147</td>\n",
       "      <td>-1.88294</td>\n",
       "      <td>780.67328</td>\n",
       "      <td>28.02473</td>\n",
       "      <td>10984.0</td>\n",
       "      <td>...</td>\n",
       "      <td>819.16809</td>\n",
       "      <td>0.0</td>\n",
       "      <td>1.36810</td>\n",
       "      <td>8.78811</td>\n",
       "      <td>35.45227</td>\n",
       "      <td>12.01782</td>\n",
       "      <td>304.27161</td>\n",
       "      <td>297.43567</td>\n",
       "      <td>33.6555</td>\n",
       "      <td>5.9262</td>\n",
       "    </tr>\n",
       "    <tr>\n",
       "      <th>2</th>\n",
       "      <td>2020-07-11 00:00:02</td>\n",
       "      <td>395.14420</td>\n",
       "      <td>12</td>\n",
       "      <td>10</td>\n",
       "      <td>52.79694</td>\n",
       "      <td>-1.4032</td>\n",
       "      <td>-1.88294</td>\n",
       "      <td>780.06574</td>\n",
       "      <td>28.02817</td>\n",
       "      <td>11120.0</td>\n",
       "      <td>...</td>\n",
       "      <td>823.51697</td>\n",
       "      <td>0.0</td>\n",
       "      <td>1.36734</td>\n",
       "      <td>8.81787</td>\n",
       "      <td>35.45227</td>\n",
       "      <td>12.01782</td>\n",
       "      <td>303.89179</td>\n",
       "      <td>298.66534</td>\n",
       "      <td>33.6555</td>\n",
       "      <td>5.8101</td>\n",
       "    </tr>\n",
       "    <tr>\n",
       "      <th>3</th>\n",
       "      <td>2020-07-11 00:00:03</td>\n",
       "      <td>395.19528</td>\n",
       "      <td>12</td>\n",
       "      <td>10</td>\n",
       "      <td>52.79694</td>\n",
       "      <td>-1.6074</td>\n",
       "      <td>-1.88294</td>\n",
       "      <td>780.15265</td>\n",
       "      <td>28.02301</td>\n",
       "      <td>11256.0</td>\n",
       "      <td>...</td>\n",
       "      <td>823.95172</td>\n",
       "      <td>0.0</td>\n",
       "      <td>1.36734</td>\n",
       "      <td>8.87493</td>\n",
       "      <td>35.43700</td>\n",
       "      <td>12.01782</td>\n",
       "      <td>303.67474</td>\n",
       "      <td>298.06860</td>\n",
       "      <td>33.6555</td>\n",
       "      <td>5.7509</td>\n",
       "    </tr>\n",
       "    <tr>\n",
       "      <th>4</th>\n",
       "      <td>2020-07-11 00:00:04</td>\n",
       "      <td>395.34866</td>\n",
       "      <td>12</td>\n",
       "      <td>10</td>\n",
       "      <td>52.79694</td>\n",
       "      <td>-1.7811</td>\n",
       "      <td>-1.88294</td>\n",
       "      <td>781.83160</td>\n",
       "      <td>28.03595</td>\n",
       "      <td>11384.0</td>\n",
       "      <td>...</td>\n",
       "      <td>827.86560</td>\n",
       "      <td>0.0</td>\n",
       "      <td>1.36810</td>\n",
       "      <td>8.83838</td>\n",
       "      <td>35.45227</td>\n",
       "      <td>12.01782</td>\n",
       "      <td>303.22266</td>\n",
       "      <td>296.53137</td>\n",
       "      <td>33.6555</td>\n",
       "      <td>5.8547</td>\n",
       "    </tr>\n",
       "    <tr>\n",
       "      <th>...</th>\n",
       "      <td>...</td>\n",
       "      <td>...</td>\n",
       "      <td>...</td>\n",
       "      <td>...</td>\n",
       "      <td>...</td>\n",
       "      <td>...</td>\n",
       "      <td>...</td>\n",
       "      <td>...</td>\n",
       "      <td>...</td>\n",
       "      <td>...</td>\n",
       "      <td>...</td>\n",
       "      <td>...</td>\n",
       "      <td>...</td>\n",
       "      <td>...</td>\n",
       "      <td>...</td>\n",
       "      <td>...</td>\n",
       "      <td>...</td>\n",
       "      <td>...</td>\n",
       "      <td>...</td>\n",
       "      <td>...</td>\n",
       "      <td>...</td>\n",
       "    </tr>\n",
       "    <tr>\n",
       "      <th>478796</th>\n",
       "      <td>2020-08-10 10:59:56</td>\n",
       "      <td>387.27219</td>\n",
       "      <td>12</td>\n",
       "      <td>10</td>\n",
       "      <td>66.72057</td>\n",
       "      <td>-0.9331</td>\n",
       "      <td>-1.84479</td>\n",
       "      <td>781.87915</td>\n",
       "      <td>28.02389</td>\n",
       "      <td>880.0</td>\n",
       "      <td>...</td>\n",
       "      <td>944.84705</td>\n",
       "      <td>0.0</td>\n",
       "      <td>1.32843</td>\n",
       "      <td>15.17817</td>\n",
       "      <td>35.14710</td>\n",
       "      <td>11.79657</td>\n",
       "      <td>316.89453</td>\n",
       "      <td>296.54950</td>\n",
       "      <td>32.0000</td>\n",
       "      <td>6.6026</td>\n",
       "    </tr>\n",
       "    <tr>\n",
       "      <th>478797</th>\n",
       "      <td>2020-08-10 10:59:57</td>\n",
       "      <td>387.52774</td>\n",
       "      <td>12</td>\n",
       "      <td>10</td>\n",
       "      <td>66.72057</td>\n",
       "      <td>-0.9996</td>\n",
       "      <td>-1.84479</td>\n",
       "      <td>787.65070</td>\n",
       "      <td>28.02385</td>\n",
       "      <td>840.0</td>\n",
       "      <td>...</td>\n",
       "      <td>940.49835</td>\n",
       "      <td>0.0</td>\n",
       "      <td>1.32843</td>\n",
       "      <td>15.17344</td>\n",
       "      <td>35.13183</td>\n",
       "      <td>11.79657</td>\n",
       "      <td>315.59247</td>\n",
       "      <td>296.15161</td>\n",
       "      <td>32.0000</td>\n",
       "      <td>6.3894</td>\n",
       "    </tr>\n",
       "    <tr>\n",
       "      <th>478798</th>\n",
       "      <td>2020-08-10 10:59:58</td>\n",
       "      <td>387.47665</td>\n",
       "      <td>12</td>\n",
       "      <td>10</td>\n",
       "      <td>66.72057</td>\n",
       "      <td>-1.2560</td>\n",
       "      <td>-1.84479</td>\n",
       "      <td>788.50256</td>\n",
       "      <td>28.03085</td>\n",
       "      <td>792.0</td>\n",
       "      <td>...</td>\n",
       "      <td>935.71472</td>\n",
       "      <td>0.0</td>\n",
       "      <td>1.32919</td>\n",
       "      <td>15.16443</td>\n",
       "      <td>35.13183</td>\n",
       "      <td>11.79657</td>\n",
       "      <td>313.92865</td>\n",
       "      <td>293.40277</td>\n",
       "      <td>32.0000</td>\n",
       "      <td>6.2584</td>\n",
       "    </tr>\n",
       "    <tr>\n",
       "      <th>478799</th>\n",
       "      <td>2020-08-10 10:59:59</td>\n",
       "      <td>387.73221</td>\n",
       "      <td>12</td>\n",
       "      <td>10</td>\n",
       "      <td>66.72057</td>\n",
       "      <td>-1.4912</td>\n",
       "      <td>-1.84479</td>\n",
       "      <td>785.80316</td>\n",
       "      <td>28.02649</td>\n",
       "      <td>752.0</td>\n",
       "      <td>...</td>\n",
       "      <td>944.84705</td>\n",
       "      <td>0.0</td>\n",
       "      <td>1.32843</td>\n",
       "      <td>15.09001</td>\n",
       "      <td>35.14710</td>\n",
       "      <td>11.79657</td>\n",
       "      <td>315.61054</td>\n",
       "      <td>302.58972</td>\n",
       "      <td>32.0000</td>\n",
       "      <td>6.4150</td>\n",
       "    </tr>\n",
       "    <tr>\n",
       "      <th>478800</th>\n",
       "      <td>2020-08-10 11:00:00</td>\n",
       "      <td>387.52774</td>\n",
       "      <td>12</td>\n",
       "      <td>10</td>\n",
       "      <td>66.72057</td>\n",
       "      <td>-1.5727</td>\n",
       "      <td>-1.84479</td>\n",
       "      <td>780.21381</td>\n",
       "      <td>28.02476</td>\n",
       "      <td>720.0</td>\n",
       "      <td>...</td>\n",
       "      <td>951.80505</td>\n",
       "      <td>0.0</td>\n",
       "      <td>1.32919</td>\n",
       "      <td>15.08672</td>\n",
       "      <td>35.14710</td>\n",
       "      <td>11.79657</td>\n",
       "      <td>317.23816</td>\n",
       "      <td>309.00964</td>\n",
       "      <td>32.0000</td>\n",
       "      <td>6.6288</td>\n",
       "    </tr>\n",
       "  </tbody>\n",
       "</table>\n",
       "<p>921603 rows × 80 columns</p>\n",
       "</div>"
      ],
      "text/plain": [
       "                       time        C01  C02  C03       C04     C05      C06  \\\n",
       "0       2020-07-11 00:00:00  395.19528   12   10  52.80456 -1.2648 -1.87531   \n",
       "1       2020-07-11 00:00:01  395.14420   12   10  52.78931 -1.3147 -1.88294   \n",
       "2       2020-07-11 00:00:02  395.14420   12   10  52.79694 -1.4032 -1.88294   \n",
       "3       2020-07-11 00:00:03  395.19528   12   10  52.79694 -1.6074 -1.88294   \n",
       "4       2020-07-11 00:00:04  395.34866   12   10  52.79694 -1.7811 -1.88294   \n",
       "...                     ...        ...  ...  ...       ...     ...      ...   \n",
       "478796  2020-08-10 10:59:56  387.27219   12   10  66.72057 -0.9331 -1.84479   \n",
       "478797  2020-08-10 10:59:57  387.52774   12   10  66.72057 -0.9996 -1.84479   \n",
       "478798  2020-08-10 10:59:58  387.47665   12   10  66.72057 -1.2560 -1.84479   \n",
       "478799  2020-08-10 10:59:59  387.73221   12   10  66.72057 -1.4912 -1.84479   \n",
       "478800  2020-08-10 11:00:00  387.52774   12   10  66.72057 -1.5727 -1.84479   \n",
       "\n",
       "              C07       C08      C09  ...        C70  C71      C72       C73  \\\n",
       "0       779.59595  28.02645  10832.0  ...  808.29620  0.0  1.36810   8.79882   \n",
       "1       780.67328  28.02473  10984.0  ...  819.16809  0.0  1.36810   8.78811   \n",
       "2       780.06574  28.02817  11120.0  ...  823.51697  0.0  1.36734   8.81787   \n",
       "3       780.15265  28.02301  11256.0  ...  823.95172  0.0  1.36734   8.87493   \n",
       "4       781.83160  28.03595  11384.0  ...  827.86560  0.0  1.36810   8.83838   \n",
       "...           ...       ...      ...  ...        ...  ...      ...       ...   \n",
       "478796  781.87915  28.02389    880.0  ...  944.84705  0.0  1.32843  15.17817   \n",
       "478797  787.65070  28.02385    840.0  ...  940.49835  0.0  1.32843  15.17344   \n",
       "478798  788.50256  28.03085    792.0  ...  935.71472  0.0  1.32919  15.16443   \n",
       "478799  785.80316  28.02649    752.0  ...  944.84705  0.0  1.32843  15.09001   \n",
       "478800  780.21381  28.02476    720.0  ...  951.80505  0.0  1.32919  15.08672   \n",
       "\n",
       "             C74       C75        C76        C77      C78     C79  \n",
       "0       35.43700  12.01782  305.03113  301.35992  33.6555  6.0951  \n",
       "1       35.45227  12.01782  304.27161  297.43567  33.6555  5.9262  \n",
       "2       35.45227  12.01782  303.89179  298.66534  33.6555  5.8101  \n",
       "3       35.43700  12.01782  303.67474  298.06860  33.6555  5.7509  \n",
       "4       35.45227  12.01782  303.22266  296.53137  33.6555  5.8547  \n",
       "...          ...       ...        ...        ...      ...     ...  \n",
       "478796  35.14710  11.79657  316.89453  296.54950  32.0000  6.6026  \n",
       "478797  35.13183  11.79657  315.59247  296.15161  32.0000  6.3894  \n",
       "478798  35.13183  11.79657  313.92865  293.40277  32.0000  6.2584  \n",
       "478799  35.14710  11.79657  315.61054  302.58972  32.0000  6.4150  \n",
       "478800  35.14710  11.79657  317.23816  309.00964  32.0000  6.6288  \n",
       "\n",
       "[921603 rows x 80 columns]"
      ]
     },
     "execution_count": 6,
     "metadata": {},
     "output_type": "execute_result"
    }
   ],
   "source": [
    "TRAIN_DF_RAW = dataframe_from_csvs(TRAIN_DATASET)\n",
    "TRAIN_DF_RAW"
   ]
  },
  {
   "cell_type": "markdown",
   "metadata": {},
   "source": [
    "학습 데이터셋은 공격을 받지 않은 평상시 데이터이고 시간을 나타내는 필드인 time이 있으며, 나머지 필드는 모두 비식별화된 센서/액추에이터의 값입니다.\n",
    "정규화는 센서/액추에이터 필드만을 대상으로 해야 합니다.\n",
    "\n",
    "본 문서에서는 전체 데이터를 대상으로 이상을 탐지하므로 \"attack\" 필드만 사용하였습니다.\n",
    "\n",
    "VALID_COLUMNS_IN_TRAIN_DATASET은 학습 데이터셋에 있는 모든 센서/액추에이터 필드를 담고 있습니다.\n",
    "가끔 학습 데이터셋에 존재하지 않는 필드가 테스트 데이터셋에 존재하는 경우가 있습니다.\n",
    "학습 시 보지 못했던 필드에 대해서 테스트를 할 수 없으므로 학습 데이터셋을 기준으로 필드 이름을 얻어냈습니다."
   ]
  },
  {
   "cell_type": "code",
   "execution_count": 7,
   "metadata": {},
   "outputs": [
    {
     "data": {
      "text/plain": [
       "Index(['C01', 'C02', 'C03', 'C04', 'C05', 'C06', 'C07', 'C08', 'C09', 'C10',\n",
       "       'C11', 'C12', 'C13', 'C14', 'C15', 'C16', 'C17', 'C18', 'C19', 'C20',\n",
       "       'C21', 'C22', 'C23', 'C24', 'C25', 'C26', 'C27', 'C28', 'C29', 'C30',\n",
       "       'C31', 'C32', 'C33', 'C34', 'C35', 'C36', 'C37', 'C38', 'C39', 'C40',\n",
       "       'C41', 'C42', 'C43', 'C44', 'C45', 'C46', 'C47', 'C48', 'C49', 'C50',\n",
       "       'C51', 'C52', 'C53', 'C54', 'C55', 'C56', 'C57', 'C58', 'C59', 'C60',\n",
       "       'C61', 'C62', 'C63', 'C64', 'C65', 'C66', 'C67', 'C68', 'C69', 'C70',\n",
       "       'C71', 'C72', 'C73', 'C74', 'C75', 'C76', 'C77', 'C78', 'C79'],\n",
       "      dtype='object')"
      ]
     },
     "execution_count": 7,
     "metadata": {},
     "output_type": "execute_result"
    }
   ],
   "source": [
    "TIMESTAMP_FIELD = \"time\"\n",
    "IDSTAMP_FIELD = 'id'\n",
    "ATTACK_FIELD = \"attack\"\n",
    "VALID_COLUMNS_IN_TRAIN_DATASET = TRAIN_DF_RAW.columns.drop([TIMESTAMP_FIELD])\n",
    "VALID_COLUMNS_IN_TRAIN_DATASET"
   ]
  },
  {
   "cell_type": "markdown",
   "metadata": {},
   "source": [
    "TAG_MIN과 TAG_MAX는 학습 데이터셋에서 최솟값 최댓값을 얻은 결과입니다."
   ]
  },
  {
   "cell_type": "code",
   "execution_count": 8,
   "metadata": {},
   "outputs": [],
   "source": [
    "TAG_MIN = TRAIN_DF_RAW[VALID_COLUMNS_IN_TRAIN_DATASET].min()\n",
    "TAG_MAX = TRAIN_DF_RAW[VALID_COLUMNS_IN_TRAIN_DATASET].max()"
   ]
  },
  {
   "cell_type": "markdown",
   "metadata": {},
   "source": [
    "normalize 함수는 Dataframe을 정규화합니다.\n",
    "정규화 방법은 최솟값, 최댓값을 이용하여 0~1의 범위에 들어오도록 하는 것입니다.\n",
    "\n",
    "가끔 값이 전혀 변하지 않는 필드가 있습니다.\n",
    "이 경우 최솟값과 최댓값이 같을 것입니다.\n",
    "본 문서에서는 이런 필드를 모두 0으로 만들었습니다."
   ]
  },
  {
   "cell_type": "code",
   "execution_count": 10,
   "metadata": {},
   "outputs": [],
   "source": [
    "def normalize(df):\n",
    "    ndf = df.copy()\n",
    "    for c in df.columns:\n",
    "        if TAG_MIN[c] == TAG_MAX[c]:\n",
    "            ndf[c] = df[c] - TAG_MIN[c]\n",
    "        else:\n",
    "            ndf[c] = (df[c] - TAG_MIN[c]) / (TAG_MAX[c] - TAG_MIN[c])\n",
    "    return ndf"
   ]
  },
  {
   "cell_type": "markdown",
   "metadata": {},
   "source": [
    "TRAIN_DF는 정규화를 마친 후 exponential weighted function을 통과시킨 결과입니다.\n",
    "센서에서 발생하는 noise를 smoothing 시켜주기를 기대하고 적용했습니다."
   ]
  },
  {
   "cell_type": "code",
   "execution_count": 11,
   "metadata": {},
   "outputs": [
    {
     "data": {
      "text/html": [
       "<div>\n",
       "<style scoped>\n",
       "    .dataframe tbody tr th:only-of-type {\n",
       "        vertical-align: middle;\n",
       "    }\n",
       "\n",
       "    .dataframe tbody tr th {\n",
       "        vertical-align: top;\n",
       "    }\n",
       "\n",
       "    .dataframe thead th {\n",
       "        text-align: right;\n",
       "    }\n",
       "</style>\n",
       "<table border=\"1\" class=\"dataframe\">\n",
       "  <thead>\n",
       "    <tr style=\"text-align: right;\">\n",
       "      <th></th>\n",
       "      <th>C01</th>\n",
       "      <th>C02</th>\n",
       "      <th>C03</th>\n",
       "      <th>C04</th>\n",
       "      <th>C05</th>\n",
       "      <th>C06</th>\n",
       "      <th>C07</th>\n",
       "      <th>C08</th>\n",
       "      <th>C09</th>\n",
       "      <th>C10</th>\n",
       "      <th>...</th>\n",
       "      <th>C70</th>\n",
       "      <th>C71</th>\n",
       "      <th>C72</th>\n",
       "      <th>C73</th>\n",
       "      <th>C74</th>\n",
       "      <th>C75</th>\n",
       "      <th>C76</th>\n",
       "      <th>C77</th>\n",
       "      <th>C78</th>\n",
       "      <th>C79</th>\n",
       "    </tr>\n",
       "  </thead>\n",
       "  <tbody>\n",
       "    <tr>\n",
       "      <th>0</th>\n",
       "      <td>0.378953</td>\n",
       "      <td>0.0</td>\n",
       "      <td>0.0</td>\n",
       "      <td>0.227071</td>\n",
       "      <td>0.372380</td>\n",
       "      <td>0.000230</td>\n",
       "      <td>0.386721</td>\n",
       "      <td>0.410567</td>\n",
       "      <td>0.784144</td>\n",
       "      <td>0.508049</td>\n",
       "      <td>...</td>\n",
       "      <td>0.584892</td>\n",
       "      <td>0.0</td>\n",
       "      <td>0.326835</td>\n",
       "      <td>0.254687</td>\n",
       "      <td>0.331076</td>\n",
       "      <td>0.916661</td>\n",
       "      <td>0.269393</td>\n",
       "      <td>0.265017</td>\n",
       "      <td>1.00000</td>\n",
       "      <td>0.567254</td>\n",
       "    </tr>\n",
       "    <tr>\n",
       "      <th>1</th>\n",
       "      <td>0.378504</td>\n",
       "      <td>0.0</td>\n",
       "      <td>0.0</td>\n",
       "      <td>0.226596</td>\n",
       "      <td>0.353516</td>\n",
       "      <td>0.000161</td>\n",
       "      <td>0.399074</td>\n",
       "      <td>0.364415</td>\n",
       "      <td>0.794139</td>\n",
       "      <td>0.540538</td>\n",
       "      <td>...</td>\n",
       "      <td>0.592044</td>\n",
       "      <td>0.0</td>\n",
       "      <td>0.326835</td>\n",
       "      <td>0.254315</td>\n",
       "      <td>0.337223</td>\n",
       "      <td>0.916661</td>\n",
       "      <td>0.266791</td>\n",
       "      <td>0.251792</td>\n",
       "      <td>1.00000</td>\n",
       "      <td>0.512135</td>\n",
       "    </tr>\n",
       "    <tr>\n",
       "      <th>2</th>\n",
       "      <td>0.378463</td>\n",
       "      <td>0.0</td>\n",
       "      <td>0.0</td>\n",
       "      <td>0.226789</td>\n",
       "      <td>0.318663</td>\n",
       "      <td>0.000154</td>\n",
       "      <td>0.393283</td>\n",
       "      <td>0.451729</td>\n",
       "      <td>0.803903</td>\n",
       "      <td>0.538802</td>\n",
       "      <td>...</td>\n",
       "      <td>0.595523</td>\n",
       "      <td>0.0</td>\n",
       "      <td>0.326387</td>\n",
       "      <td>0.255304</td>\n",
       "      <td>0.337777</td>\n",
       "      <td>0.916661</td>\n",
       "      <td>0.265266</td>\n",
       "      <td>0.254707</td>\n",
       "      <td>1.00000</td>\n",
       "      <td>0.469622</td>\n",
       "    </tr>\n",
       "    <tr>\n",
       "      <th>3</th>\n",
       "      <td>0.378904</td>\n",
       "      <td>0.0</td>\n",
       "      <td>0.0</td>\n",
       "      <td>0.226808</td>\n",
       "      <td>0.238782</td>\n",
       "      <td>0.000154</td>\n",
       "      <td>0.393697</td>\n",
       "      <td>0.323289</td>\n",
       "      <td>0.813725</td>\n",
       "      <td>0.459532</td>\n",
       "      <td>...</td>\n",
       "      <td>0.596151</td>\n",
       "      <td>0.0</td>\n",
       "      <td>0.326343</td>\n",
       "      <td>0.257362</td>\n",
       "      <td>0.331746</td>\n",
       "      <td>0.916661</td>\n",
       "      <td>0.264379</td>\n",
       "      <td>0.253005</td>\n",
       "      <td>1.00000</td>\n",
       "      <td>0.446285</td>\n",
       "    </tr>\n",
       "    <tr>\n",
       "      <th>4</th>\n",
       "      <td>0.380282</td>\n",
       "      <td>0.0</td>\n",
       "      <td>0.0</td>\n",
       "      <td>0.226810</td>\n",
       "      <td>0.165794</td>\n",
       "      <td>0.000154</td>\n",
       "      <td>0.412796</td>\n",
       "      <td>0.654203</td>\n",
       "      <td>0.823039</td>\n",
       "      <td>0.333541</td>\n",
       "      <td>...</td>\n",
       "      <td>0.598763</td>\n",
       "      <td>0.0</td>\n",
       "      <td>0.326786</td>\n",
       "      <td>0.256312</td>\n",
       "      <td>0.337229</td>\n",
       "      <td>0.916661</td>\n",
       "      <td>0.262757</td>\n",
       "      <td>0.247706</td>\n",
       "      <td>1.00000</td>\n",
       "      <td>0.477489</td>\n",
       "    </tr>\n",
       "    <tr>\n",
       "      <th>...</th>\n",
       "      <td>...</td>\n",
       "      <td>...</td>\n",
       "      <td>...</td>\n",
       "      <td>...</td>\n",
       "      <td>...</td>\n",
       "      <td>...</td>\n",
       "      <td>...</td>\n",
       "      <td>...</td>\n",
       "      <td>...</td>\n",
       "      <td>...</td>\n",
       "      <td>...</td>\n",
       "      <td>...</td>\n",
       "      <td>...</td>\n",
       "      <td>...</td>\n",
       "      <td>...</td>\n",
       "      <td>...</td>\n",
       "      <td>...</td>\n",
       "      <td>...</td>\n",
       "      <td>...</td>\n",
       "      <td>...</td>\n",
       "      <td>...</td>\n",
       "    </tr>\n",
       "    <tr>\n",
       "      <th>478796</th>\n",
       "      <td>0.302372</td>\n",
       "      <td>0.0</td>\n",
       "      <td>0.0</td>\n",
       "      <td>0.703684</td>\n",
       "      <td>0.509016</td>\n",
       "      <td>0.000538</td>\n",
       "      <td>0.420902</td>\n",
       "      <td>0.355242</td>\n",
       "      <td>0.064622</td>\n",
       "      <td>0.639006</td>\n",
       "      <td>...</td>\n",
       "      <td>0.683154</td>\n",
       "      <td>0.0</td>\n",
       "      <td>0.300845</td>\n",
       "      <td>0.497901</td>\n",
       "      <td>0.202699</td>\n",
       "      <td>0.111119</td>\n",
       "      <td>0.315343</td>\n",
       "      <td>0.248152</td>\n",
       "      <td>0.26162</td>\n",
       "      <td>0.757619</td>\n",
       "    </tr>\n",
       "    <tr>\n",
       "      <th>478797</th>\n",
       "      <td>0.304595</td>\n",
       "      <td>0.0</td>\n",
       "      <td>0.0</td>\n",
       "      <td>0.703684</td>\n",
       "      <td>0.485295</td>\n",
       "      <td>0.000538</td>\n",
       "      <td>0.481569</td>\n",
       "      <td>0.335967</td>\n",
       "      <td>0.061671</td>\n",
       "      <td>0.685457</td>\n",
       "      <td>...</td>\n",
       "      <td>0.680815</td>\n",
       "      <td>0.0</td>\n",
       "      <td>0.300850</td>\n",
       "      <td>0.497868</td>\n",
       "      <td>0.196619</td>\n",
       "      <td>0.111119</td>\n",
       "      <td>0.309817</td>\n",
       "      <td>0.245953</td>\n",
       "      <td>0.26162</td>\n",
       "      <td>0.681373</td>\n",
       "    </tr>\n",
       "    <tr>\n",
       "      <th>478798</th>\n",
       "      <td>0.304373</td>\n",
       "      <td>0.0</td>\n",
       "      <td>0.0</td>\n",
       "      <td>0.703684</td>\n",
       "      <td>0.386965</td>\n",
       "      <td>0.000538</td>\n",
       "      <td>0.497306</td>\n",
       "      <td>0.519990</td>\n",
       "      <td>0.058250</td>\n",
       "      <td>0.607073</td>\n",
       "      <td>...</td>\n",
       "      <td>0.677466</td>\n",
       "      <td>0.0</td>\n",
       "      <td>0.301298</td>\n",
       "      <td>0.497555</td>\n",
       "      <td>0.196011</td>\n",
       "      <td>0.111119</td>\n",
       "      <td>0.303620</td>\n",
       "      <td>0.236562</td>\n",
       "      <td>0.26162</td>\n",
       "      <td>0.631425</td>\n",
       "    </tr>\n",
       "    <tr>\n",
       "      <th>478799</th>\n",
       "      <td>0.306574</td>\n",
       "      <td>0.0</td>\n",
       "      <td>0.0</td>\n",
       "      <td>0.703684</td>\n",
       "      <td>0.289108</td>\n",
       "      <td>0.000538</td>\n",
       "      <td>0.468238</td>\n",
       "      <td>0.422572</td>\n",
       "      <td>0.055304</td>\n",
       "      <td>0.430538</td>\n",
       "      <td>...</td>\n",
       "      <td>0.683078</td>\n",
       "      <td>0.0</td>\n",
       "      <td>0.300895</td>\n",
       "      <td>0.494969</td>\n",
       "      <td>0.202036</td>\n",
       "      <td>0.111119</td>\n",
       "      <td>0.308706</td>\n",
       "      <td>0.266275</td>\n",
       "      <td>0.26162</td>\n",
       "      <td>0.677024</td>\n",
       "    </tr>\n",
       "    <tr>\n",
       "      <th>478800</th>\n",
       "      <td>0.305015</td>\n",
       "      <td>0.0</td>\n",
       "      <td>0.0</td>\n",
       "      <td>0.703684</td>\n",
       "      <td>0.248821</td>\n",
       "      <td>0.000538</td>\n",
       "      <td>0.401886</td>\n",
       "      <td>0.366873</td>\n",
       "      <td>0.052926</td>\n",
       "      <td>0.303069</td>\n",
       "      <td>...</td>\n",
       "      <td>0.688171</td>\n",
       "      <td>0.0</td>\n",
       "      <td>0.301303</td>\n",
       "      <td>0.494597</td>\n",
       "      <td>0.202639</td>\n",
       "      <td>0.111119</td>\n",
       "      <td>0.314736</td>\n",
       "      <td>0.290666</td>\n",
       "      <td>0.26162</td>\n",
       "      <td>0.750658</td>\n",
       "    </tr>\n",
       "  </tbody>\n",
       "</table>\n",
       "<p>921603 rows × 79 columns</p>\n",
       "</div>"
      ],
      "text/plain": [
       "             C01  C02  C03       C04       C05       C06       C07       C08  \\\n",
       "0       0.378953  0.0  0.0  0.227071  0.372380  0.000230  0.386721  0.410567   \n",
       "1       0.378504  0.0  0.0  0.226596  0.353516  0.000161  0.399074  0.364415   \n",
       "2       0.378463  0.0  0.0  0.226789  0.318663  0.000154  0.393283  0.451729   \n",
       "3       0.378904  0.0  0.0  0.226808  0.238782  0.000154  0.393697  0.323289   \n",
       "4       0.380282  0.0  0.0  0.226810  0.165794  0.000154  0.412796  0.654203   \n",
       "...          ...  ...  ...       ...       ...       ...       ...       ...   \n",
       "478796  0.302372  0.0  0.0  0.703684  0.509016  0.000538  0.420902  0.355242   \n",
       "478797  0.304595  0.0  0.0  0.703684  0.485295  0.000538  0.481569  0.335967   \n",
       "478798  0.304373  0.0  0.0  0.703684  0.386965  0.000538  0.497306  0.519990   \n",
       "478799  0.306574  0.0  0.0  0.703684  0.289108  0.000538  0.468238  0.422572   \n",
       "478800  0.305015  0.0  0.0  0.703684  0.248821  0.000538  0.401886  0.366873   \n",
       "\n",
       "             C09       C10  ...       C70  C71       C72       C73       C74  \\\n",
       "0       0.784144  0.508049  ...  0.584892  0.0  0.326835  0.254687  0.331076   \n",
       "1       0.794139  0.540538  ...  0.592044  0.0  0.326835  0.254315  0.337223   \n",
       "2       0.803903  0.538802  ...  0.595523  0.0  0.326387  0.255304  0.337777   \n",
       "3       0.813725  0.459532  ...  0.596151  0.0  0.326343  0.257362  0.331746   \n",
       "4       0.823039  0.333541  ...  0.598763  0.0  0.326786  0.256312  0.337229   \n",
       "...          ...       ...  ...       ...  ...       ...       ...       ...   \n",
       "478796  0.064622  0.639006  ...  0.683154  0.0  0.300845  0.497901  0.202699   \n",
       "478797  0.061671  0.685457  ...  0.680815  0.0  0.300850  0.497868  0.196619   \n",
       "478798  0.058250  0.607073  ...  0.677466  0.0  0.301298  0.497555  0.196011   \n",
       "478799  0.055304  0.430538  ...  0.683078  0.0  0.300895  0.494969  0.202036   \n",
       "478800  0.052926  0.303069  ...  0.688171  0.0  0.301303  0.494597  0.202639   \n",
       "\n",
       "             C75       C76       C77      C78       C79  \n",
       "0       0.916661  0.269393  0.265017  1.00000  0.567254  \n",
       "1       0.916661  0.266791  0.251792  1.00000  0.512135  \n",
       "2       0.916661  0.265266  0.254707  1.00000  0.469622  \n",
       "3       0.916661  0.264379  0.253005  1.00000  0.446285  \n",
       "4       0.916661  0.262757  0.247706  1.00000  0.477489  \n",
       "...          ...       ...       ...      ...       ...  \n",
       "478796  0.111119  0.315343  0.248152  0.26162  0.757619  \n",
       "478797  0.111119  0.309817  0.245953  0.26162  0.681373  \n",
       "478798  0.111119  0.303620  0.236562  0.26162  0.631425  \n",
       "478799  0.111119  0.308706  0.266275  0.26162  0.677024  \n",
       "478800  0.111119  0.314736  0.290666  0.26162  0.750658  \n",
       "\n",
       "[921603 rows x 79 columns]"
      ]
     },
     "execution_count": 11,
     "metadata": {},
     "output_type": "execute_result"
    }
   ],
   "source": [
    "TRAIN_DF = normalize(TRAIN_DF_RAW[VALID_COLUMNS_IN_TRAIN_DATASET]).ewm(alpha=0.9).mean()\n",
    "TRAIN_DF"
   ]
  },
  {
   "cell_type": "markdown",
   "metadata": {},
   "source": [
    "boundary_check 함수는 Pandas Dataframe에 있는 값 중 1 초과의 값이 있는지, 0 미만의 값이 있는지, NaN이 있는지 점검합니다."
   ]
  },
  {
   "cell_type": "code",
   "execution_count": 12,
   "metadata": {},
   "outputs": [],
   "source": [
    "def boundary_check(df):\n",
    "    x = np.array(df, dtype=np.float32)\n",
    "    return np.any(x > 1.0), np.any(x < 0), np.any(np.isnan(x))"
   ]
  },
  {
   "cell_type": "code",
   "execution_count": 13,
   "metadata": {},
   "outputs": [
    {
     "data": {
      "text/plain": [
       "(False, False, False)"
      ]
     },
     "execution_count": 13,
     "metadata": {},
     "output_type": "execute_result"
    }
   ],
   "source": [
    "boundary_check(TRAIN_DF)"
   ]
  },
  {
   "cell_type": "markdown",
   "metadata": {},
   "source": [
    "1보다 큰 값, 0보다 작은 값, not a number가 없습니다. 정규화가 정상적으로 처리되었습니다."
   ]
  },
  {
   "cell_type": "markdown",
   "metadata": {},
   "source": [
    "## 학습 모델 설정 & 데이터 입출력 정의\n",
    "\n",
    "딥러닝 학습과 추론에는 PyTorch를 사용했습니다.\n",
    "\n",
    "베이스라인 모델은 Stacked RNN(GRU cells)을 이용해서 이상을 탐지합니다.\n",
    "정상 데이터만 학습해야 하고, 정상 데이터에는 어떠한 label도 없으므로 unsupervised learning을 해야 합니다.\n",
    "\n",
    "본 모델에서는 슬라이딩 윈도우를 통해 시계열 데이터의 일부를 가져와서 해당 윈도우의 패턴을 기억하도록 했습니다.\n",
    "슬라이딩 윈도우는 90초(HAI는 1초마다 샘플링되어 있습니다)로 설정했습니다.\n",
    "\n",
    "모델의 입출력은 다음과 같이 설정했습니다.\n",
    "- 입력 : 윈도우의 앞부분 89초에 해당하는 값\n",
    "- 출력 : 윈도우의 가장 마지막 초(90번째 초)의 값\n",
    "\n",
    "이후 탐지 시에는 모델이 출력하는 값(예측값)과 실제로 들어온 값의 차를 보고 차이가 크면 이상으로 간주했습니다.\n",
    "많은 오차가 발생한다는 것은 기존에 학습 데이터셋에서 본 적이 없는 패턴이기 때문이라는 가정입니다."
   ]
  },
  {
   "cell_type": "code",
   "execution_count": null,
   "metadata": {},
   "outputs": [],
   "source": [
    "WINDOW_GIVEN = 89\n",
    "WINDOW_SIZE = 90\n",
    "\n",
    "\n",
    "class HaiDataset(Dataset):\n",
    "    def __init__(self, timestamps, df, stride=1, attacks=None):\n",
    "        self.ts = np.array(timestamps)\n",
    "        self.tag_values = np.array(df, dtype=np.float32)\n",
    "        self.valid_idxs = []\n",
    "        for L in trange(len(self.ts) - WINDOW_SIZE + 1):\n",
    "            R = L + WINDOW_SIZE - 1\n",
    "            if dateutil.parser.parse(self.ts[R]) - dateutil.parser.parse(\n",
    "                self.ts[L]\n",
    "            ) == timedelta(seconds=WINDOW_SIZE - 1):\n",
    "                self.valid_idxs.append(L)\n",
    "        self.valid_idxs = np.array(self.valid_idxs, dtype=np.int32)[::stride]\n",
    "        self.n_idxs = len(self.valid_idxs)\n",
    "        print(f\"# of valid windows: {self.n_idxs}\")\n",
    "        if attacks is not None:\n",
    "            self.attacks = np.array(attacks, dtype=np.float32)\n",
    "            self.with_attack = True\n",
    "        else:\n",
    "            self.with_attack = False\n",
    "\n",
    "    def __len__(self):\n",
    "        return self.n_idxs\n",
    "\n",
    "    def __getitem__(self, idx):\n",
    "        i = self.valid_idxs[idx]\n",
    "        last = i + WINDOW_SIZE - 1\n",
    "        item = {\"attack\": self.attacks[last]} if self.with_attack else {}\n",
    "        item[\"ts\"] = self.ts[i + WINDOW_SIZE - 1]\n",
    "        item[\"given\"] = torch.from_numpy(self.tag_values[i : i + WINDOW_GIVEN])\n",
    "        item[\"answer\"] = torch.from_numpy(self.tag_values[last])\n",
    "        return item"
   ]
  },
  {
   "cell_type": "markdown",
   "metadata": {},
   "source": [
    "HaiDataset 클래스는 PyTorch의 Dataset 인터페이스를 정의한 것입니다.\n",
    "\n",
    "데이터셋을 읽을 때는 슬라이딩 윈도우가 유효한 지 점검합니다.\n",
    "정상적인 윈도우라면 원도우의 첫 시각과 마지막 시각의 차가 89초가 되어야 합니다.\n",
    "\n",
    "stride 파라미터는 슬라이딩을 할 때 크기를 의미합니다.\n",
    "전체 윈도우를 모두 학습할 수도 있지만, 시계열 데이터에서는 슬라이딩 윈도우를 1초씩 적용하면 이전 윈도우와 다음 윈도우의 값이 거의 같습니다.\n",
    "본 노트북에서는 학습을 빠르게 마치기 위해 10초씩 건너뛰면서 데이터를 추출하도록 했습니다.\n",
    "(물론 슬라이딩 크기를 1로 설정하여 모든 데이터셋을 보게 하면 더 좋을 것입니다)"
   ]
  },
  {
   "cell_type": "code",
   "execution_count": null,
   "metadata": {},
   "outputs": [],
   "source": [
    "HAI_DATASET_TRAIN = HaiDataset(TRAIN_DF_RAW[TIMESTAMP_FIELD], TRAIN_DF, stride=10)\n",
    "HAI_DATASET_TRAIN[0]"
   ]
  },
  {
   "cell_type": "markdown",
   "metadata": {},
   "source": [
    "데이터셋이 잘 로드되는 것을 볼 수 있습니다.\n",
    "\n",
    "모델은 3층 bidirectional GRU를 사용합니다.\n",
    "Hidden cell의 크기는 100으로 설정했습니다.\n",
    "Dropout은 사용하지 않았습니다.\n",
    "\n",
    "모델이 윈도우의 가장 첫 번째 값과 RNN의 출력을 더해서 내보내도록 skip connection(forward 메소드의 return 문 참조)을 만들었습니다."
   ]
  },
  {
   "cell_type": "code",
   "execution_count": null,
   "metadata": {},
   "outputs": [],
   "source": [
    "N_HIDDENS = 100\n",
    "N_LAYERS = 3\n",
    "BATCH_SIZE = 512\n",
    "\n",
    "\n",
    "class StackedGRU(torch.nn.Module):\n",
    "    def __init__(self, n_tags):\n",
    "        super().__init__()\n",
    "        self.rnn = torch.nn.GRU(\n",
    "            input_size=n_tags,\n",
    "            hidden_size=N_HIDDENS,\n",
    "            num_layers=N_LAYERS,\n",
    "            bidirectional=True,\n",
    "            dropout=0,\n",
    "        )\n",
    "        self.fc = torch.nn.Linear(N_HIDDENS * 2, n_tags)\n",
    "\n",
    "    def forward(self, x):\n",
    "        x = x.transpose(0, 1)  # (batch, seq, params) -> (seq, batch, params)\n",
    "        self.rnn.flatten_parameters()\n",
    "        outs, _ = self.rnn(x)\n",
    "        out = self.fc(outs[-1])\n",
    "        return x[0] + out"
   ]
  },
  {
   "cell_type": "code",
   "execution_count": null,
   "metadata": {},
   "outputs": [],
   "source": [
    "MODEL = StackedGRU(n_tags=TRAIN_DF.shape[1])\n",
    "MODEL.cuda()"
   ]
  },
  {
   "cell_type": "markdown",
   "metadata": {},
   "source": [
    "## 신규 모델 학습\n",
    "\n",
    "모델 학습을 직접 하려면 아래 코드를 실행하시면 됩니다.\n",
    "\n",
    "이미 학습된 모델을 로드해서 결과만 보시려면 아래 '모델 불러오기' section으로 가셔서 실행을 이어가시면 됩니다.\n",
    "\n",
    "Loss function은 MSE를 선택했고, optimizer는 AdamW(Loshchilov & Hutter, \"Decoupled Weight Decay Regularization\", ICLR 2019)를 사용합니다.\n",
    "\n",
    "학습 시 epoch loss가 가장 좋았던 모델의 파라미터를 저장합니다."
   ]
  },
  {
   "cell_type": "code",
   "execution_count": null,
   "metadata": {},
   "outputs": [],
   "source": [
    "def train(dataset, model, batch_size, n_epochs):\n",
    "    dataloader = DataLoader(dataset, batch_size=batch_size, shuffle=True)\n",
    "    optimizer = torch.optim.AdamW(model.parameters())\n",
    "    loss_fn = torch.nn.MSELoss()\n",
    "    epochs = trange(n_epochs, desc=\"training\")\n",
    "    best = {\"loss\": sys.float_info.max}\n",
    "    loss_history = []\n",
    "    for e in epochs:\n",
    "        epoch_loss = 0\n",
    "        for batch in dataloader:\n",
    "            optimizer.zero_grad()\n",
    "            given = batch[\"given\"].cuda()\n",
    "            guess = model(given)\n",
    "            answer = batch[\"answer\"].cuda()\n",
    "            loss = loss_fn(answer, guess)\n",
    "            loss.backward()\n",
    "            epoch_loss += loss.item()\n",
    "            optimizer.step()\n",
    "        loss_history.append(epoch_loss)\n",
    "        epochs.set_postfix_str(f\"loss: {epoch_loss:.6f}\")\n",
    "        if epoch_loss < best[\"loss\"]:\n",
    "            best[\"state\"] = model.state_dict()\n",
    "            best[\"loss\"] = epoch_loss\n",
    "            best[\"epoch\"] = e + 1\n",
    "    return best, loss_history"
   ]
  },
  {
   "cell_type": "markdown",
   "metadata": {},
   "source": [
    "학습은 32 에포크 진행했습니다."
   ]
  },
  {
   "cell_type": "code",
   "execution_count": null,
   "metadata": {},
   "outputs": [],
   "source": [
    "%%time\n",
    "MODEL.train()\n",
    "BEST_MODEL, LOSS_HISTORY = train(HAI_DATASET_TRAIN, MODEL, BATCH_SIZE, 32)"
   ]
  },
  {
   "cell_type": "code",
   "execution_count": null,
   "metadata": {},
   "outputs": [],
   "source": [
    "BEST_MODEL[\"loss\"], BEST_MODEL[\"epoch\"]"
   ]
  },
  {
   "cell_type": "code",
   "execution_count": null,
   "metadata": {},
   "outputs": [],
   "source": [
    "with open(\"model.pt\", \"wb\") as f:\n",
    "    torch.save(\n",
    "        {\n",
    "            \"state\": BEST_MODEL[\"state\"],\n",
    "            \"best_epoch\": BEST_MODEL[\"epoch\"],\n",
    "            \"loss_history\": LOSS_HISTORY,\n",
    "        },\n",
    "        f,\n",
    "    )"
   ]
  },
  {
   "cell_type": "markdown",
   "metadata": {},
   "source": [
    "## 모델 불러오기\n",
    "\n",
    "이미 학습된 모델 파라미터와 training loss 기록을 불러옵니다."
   ]
  },
  {
   "cell_type": "code",
   "execution_count": null,
   "metadata": {},
   "outputs": [],
   "source": [
    "with open(\"model.pt\", \"rb\") as f:\n",
    "    SAVED_MODEL = torch.load(f)\n",
    "\n",
    "MODEL.load_state_dict(SAVED_MODEL[\"state\"])"
   ]
  },
  {
   "cell_type": "code",
   "execution_count": null,
   "metadata": {},
   "outputs": [],
   "source": [
    "plt.figure(figsize=(16, 4))\n",
    "plt.title(\"Training Loss Graph\")\n",
    "plt.xlabel(\"epochs\")\n",
    "plt.ylabel(\"loss\")\n",
    "plt.yscale(\"log\")\n",
    "plt.plot(SAVED_MODEL[\"loss_history\"])\n",
    "plt.show()"
   ]
  },
  {
   "cell_type": "markdown",
   "metadata": {},
   "source": [
    "## 학습된 모델을 이용한 탐지\n",
    "\n",
    "검증 데이터셋을 불러와서 모델에 입력으로 주고 예측값과 실제값의 차를 얻어봅니다."
   ]
  },
  {
   "cell_type": "markdown",
   "metadata": {},
   "source": [
    "검증 데이터셋에 대해서도 만들어둔 함수를 이용해서 점검해봅니다.\n",
    "Not a number가 있는지 점검하는 것이 주요 목적입니다."
   ]
  },
  {
   "cell_type": "code",
   "execution_count": null,
   "metadata": {},
   "outputs": [],
   "source": [
    "VALIDATION_DF_RAW = dataframe_from_csvs(VALIDATION_DATASET)\n",
    "VALIDATION_DF_RAW"
   ]
  },
  {
   "cell_type": "markdown",
   "metadata": {},
   "source": [
    "검증 데이터셋도 정상 데이터셋의 최솟값, 최댓값을 이용해서 정규화합니다."
   ]
  },
  {
   "cell_type": "code",
   "execution_count": null,
   "metadata": {},
   "outputs": [],
   "source": [
    "VALIDATION_DF = normalize(VALIDATION_DF_RAW[VALID_COLUMNS_IN_TRAIN_DATASET])"
   ]
  },
  {
   "cell_type": "code",
   "execution_count": null,
   "metadata": {},
   "outputs": [],
   "source": [
    "boundary_check(VALIDATION_DF)"
   ]
  },
  {
   "cell_type": "markdown",
   "metadata": {},
   "source": [
    "공격 데이터셋에서는 확실히 정상 데이터의 최솟값과 최댓값을 벗어나는 값이 나타나고 있습니다."
   ]
  },
  {
   "cell_type": "code",
   "execution_count": null,
   "metadata": {},
   "outputs": [],
   "source": [
    "HAI_DATASET_VALIDATION = HaiDataset(\n",
    "    VALIDATION_DF_RAW[TIMESTAMP_FIELD], VALIDATION_DF, attacks=VALIDATION_DF_RAW[ATTACK_FIELD]\n",
    ")\n",
    "HAI_DATASET_VALIDATION[0]"
   ]
  },
  {
   "cell_type": "markdown",
   "metadata": {},
   "source": [
    "검증 데이터셋에 대해서도 PyTorch Dataset 인스턴스를 만들었습니다.\n",
    "모든 데이터 포인트에 대해 점검해야 하므로 학습 데이터 때와는 다르게 슬라이딩의 크기는 1로 두어야 합니다."
   ]
  },
  {
   "cell_type": "code",
   "execution_count": null,
   "metadata": {},
   "outputs": [],
   "source": [
    "def inference(dataset, model, batch_size):\n",
    "    dataloader = DataLoader(dataset, batch_size=batch_size)\n",
    "    ts, dist, att = [], [], []\n",
    "    with torch.no_grad():\n",
    "        for batch in dataloader:\n",
    "            given = batch[\"given\"].cuda()\n",
    "            answer = batch[\"answer\"].cuda()\n",
    "            guess = model(given)\n",
    "            ts.append(np.array(batch[\"ts\"]))\n",
    "            dist.append(torch.abs(answer - guess).cpu().numpy())\n",
    "            try:\n",
    "                att.append(np.array(batch[\"attack\"]))\n",
    "            except:\n",
    "                att.append(np.zeros(batch_size))\n",
    "            \n",
    "    return (\n",
    "        np.concatenate(ts),\n",
    "        np.concatenate(dist),\n",
    "        np.concatenate(att),\n",
    "    )"
   ]
  },
  {
   "cell_type": "markdown",
   "metadata": {},
   "source": [
    "inference 함수는 데이터를 순차적으로 보면서 모델이 예측한 값과 실제 값의 차를 구해서 기록합니다."
   ]
  },
  {
   "cell_type": "code",
   "execution_count": null,
   "metadata": {},
   "outputs": [],
   "source": [
    "%%time\n",
    "MODEL.eval()\n",
    "CHECK_TS, CHECK_DIST, CHECK_ATT = inference(HAI_DATASET_VALIDATION, MODEL, BATCH_SIZE)"
   ]
  },
  {
   "cell_type": "markdown",
   "metadata": {},
   "source": [
    "CHECK_DIST는 검증 데이터셋 전체 시간대에 대해 모든 필드의 |예측값 - 실제값|을 가지고 있습니다."
   ]
  },
  {
   "cell_type": "code",
   "execution_count": null,
   "metadata": {},
   "outputs": [],
   "source": [
    "CHECK_DIST.shape"
   ]
  },
  {
   "cell_type": "markdown",
   "metadata": {},
   "source": [
    "공격 여부 판단을 위해 같은 시각에서 전체 필드가 산출하는 차의 평균을 계산합니다."
   ]
  },
  {
   "cell_type": "code",
   "execution_count": null,
   "metadata": {},
   "outputs": [],
   "source": [
    "ANOMALY_SCORE = np.mean(CHECK_DIST, axis=1)"
   ]
  },
  {
   "cell_type": "markdown",
   "metadata": {},
   "source": [
    "결과를 눈으로 확인하기 위해 그래프를 그려보겠습니다.\n",
    "piece 파라미터는 그래프를 몇 개로 나누어 그릴지를 결정합니다.\n",
    "세세한 결과를 보고 싶을 경우 숫자를 늘리면 됩니다."
   ]
  },
  {
   "cell_type": "code",
   "execution_count": null,
   "metadata": {},
   "outputs": [],
   "source": [
    "def check_graph(xs, att, piece=2, THRESHOLD=None):\n",
    "    l = xs.shape[0]\n",
    "    chunk = l // piece\n",
    "    fig, axs = plt.subplots(piece, figsize=(20, 4 * piece))\n",
    "    for i in range(piece):\n",
    "        L = i * chunk\n",
    "        R = min(L + chunk, l)\n",
    "        xticks = range(L, R)\n",
    "        axs[i].plot(xticks, xs[L:R])\n",
    "        if len(xs[L:R]) > 0:\n",
    "            peak = max(xs[L:R])\n",
    "            axs[i].plot(xticks, att[L:R] * peak * 0.3)\n",
    "        if THRESHOLD!=None:\n",
    "            axs[i].axhline(y=THRESHOLD, color='r')\n",
    "    plt.show()"
   ]
  },
  {
   "cell_type": "code",
   "execution_count": null,
   "metadata": {},
   "outputs": [],
   "source": [
    "THRESHOLD = 0.04\n",
    "check_graph(ANOMALY_SCORE, CHECK_ATT, piece=2, THRESHOLD=THRESHOLD)"
   ]
  },
  {
   "cell_type": "markdown",
   "metadata": {},
   "source": [
    "주황색 선은 공격 위치를 나타내고, 파란색 선은 (평균) 오차의 크기를 나타냅니다.\n",
    "전반적으로 공격 위치에서 큰 오차를 보이고 있습니다.\n",
    "\n",
    "임의의 threshold(빨간색 선)가 넘어갈 경우 공격으로 간주합니다.\n",
    "공격은 1로 정상은 0으로 표기합니다."
   ]
  },
  {
   "cell_type": "code",
   "execution_count": null,
   "metadata": {},
   "outputs": [],
   "source": [
    "def put_labels(distance, threshold):\n",
    "    xs = np.zeros_like(distance)\n",
    "    xs[distance > threshold] = 1\n",
    "    return xs"
   ]
  },
  {
   "cell_type": "markdown",
   "metadata": {},
   "source": [
    "위의 그래프를 보면 대략 0.04를 기준으로 설정할 수 있을 것으로 보입니다.\n",
    "여러 번의 실험을 통해 정밀하게 임계치를 선택하면 더 좋은 결과를 얻을 수 있을 것으로 예상합니다."
   ]
  },
  {
   "cell_type": "code",
   "execution_count": null,
   "metadata": {},
   "outputs": [],
   "source": [
    "LABELS = put_labels(ANOMALY_SCORE, THRESHOLD)\n",
    "LABELS, LABELS.shape"
   ]
  },
  {
   "cell_type": "markdown",
   "metadata": {},
   "source": [
    "정답지(ATTACK_LABELS)도 동일하게 추출합니다.\n",
    "검증 데이터셋에 공격 여부를 나타내는 필드에는 정상을 0으로 공격을 1로 표기하고 있습니다.\n",
    "위에 정의한 put_labels 함수를 이용해서 0.5를 기준으로 같은 방식으로 TaPR을 위한 label을 붙여줍니다."
   ]
  },
  {
   "cell_type": "code",
   "execution_count": null,
   "metadata": {},
   "outputs": [],
   "source": [
    "ATTACK_LABELS = put_labels(np.array(VALIDATION_DF_RAW[ATTACK_FIELD]), threshold=0.5)\n",
    "ATTACK_LABELS, ATTACK_LABELS.shape"
   ]
  },
  {
   "cell_type": "markdown",
   "metadata": {},
   "source": [
    "탐지 모델이 윈도우 방식으로 판단을 진행했기 때문에,\n",
    "1. 첫 시작의 몇 초는 판단을 내릴 수 없고\n",
    "2. 데이터셋 중간에 시간이 연속되지 않는 구간에 대해서는 판단을 내릴 수 없습니다.\n",
    "\n",
    "위에서 보시는 바와 같이 정답에 비해 얻어낸 label의 수가 적습니다.\n",
    "\n",
    "아래의 fill_blank 함수는 빈칸을 채워줍니다.\n",
    "빈 곳은 정상(0) 표기하고 나머지는 모델의 판단(정상 0, 비정상 1)을 채워줍니다."
   ]
  },
  {
   "cell_type": "code",
   "execution_count": null,
   "metadata": {},
   "outputs": [],
   "source": [
    "def fill_blank(check_ts, labels, total_ts):\n",
    "    def ts_generator():\n",
    "        for t in total_ts:\n",
    "            yield dateutil.parser.parse(t)\n",
    "\n",
    "    def label_generator():\n",
    "        for t, label in zip(check_ts, labels):\n",
    "            yield dateutil.parser.parse(t), label\n",
    "\n",
    "    g_ts = ts_generator()\n",
    "    g_label = label_generator()\n",
    "    final_labels = []\n",
    "\n",
    "    try:\n",
    "        current = next(g_ts)\n",
    "        ts_label, label = next(g_label)\n",
    "        while True:\n",
    "            if current > ts_label:\n",
    "                ts_label, label = next(g_label)\n",
    "                continue\n",
    "            elif current < ts_label:\n",
    "                final_labels.append(0)\n",
    "                current = next(g_ts)\n",
    "                continue\n",
    "            final_labels.append(label)\n",
    "            current = next(g_ts)\n",
    "            ts_label, label = next(g_label)\n",
    "    except StopIteration:\n",
    "        return np.array(final_labels, dtype=np.int8)"
   ]
  },
  {
   "cell_type": "code",
   "execution_count": null,
   "metadata": {},
   "outputs": [],
   "source": [
    "%%time\n",
    "FINAL_LABELS = fill_blank(CHECK_TS, LABELS, np.array(VALIDATION_DF_RAW[TIMESTAMP_FIELD]))\n",
    "FINAL_LABELS.shape"
   ]
  },
  {
   "cell_type": "markdown",
   "metadata": {},
   "source": [
    "## 평가\n",
    "\n",
    "평가는 TaPR을 사용합니다.\n",
    "정답(ATTACK_LABELS)과 모델의 결과(FINAL_LABELS)의 길이가 같은지 확인합니다."
   ]
  },
  {
   "cell_type": "code",
   "execution_count": null,
   "metadata": {},
   "outputs": [],
   "source": [
    "ATTACK_LABELS.shape[0] == FINAL_LABELS.shape[0]"
   ]
  },
  {
   "cell_type": "markdown",
   "metadata": {},
   "source": [
    "TaPR 점수를 받습니다."
   ]
  },
  {
   "cell_type": "code",
   "execution_count": null,
   "metadata": {},
   "outputs": [],
   "source": [
    "TaPR = etapr.evaluate(anomalies=ATTACK_LABELS, predictions=FINAL_LABELS)\n",
    "print(f\"F1: {TaPR['f1']:.3f} (TaP: {TaPR['TaP']:.3f}, TaR: {TaPR['TaR']:.3f})\")\n",
    "print(f\"# of detected anomalies: {len(TaPR['Detected_Anomalies'])}\")\n",
    "print(f\"Detected anomalies: {TaPR['Detected_Anomalies']}\")"
   ]
  },
  {
   "cell_type": "markdown",
   "metadata": {},
   "source": [
    "## 테스트 데이터셋 예측\n",
    "학습 데이터셋과 검증 데이터셋을 이용해 만든 모델로 테스트 데이터셋 결과를 예측합니다."
   ]
  },
  {
   "cell_type": "code",
   "execution_count": null,
   "metadata": {},
   "outputs": [],
   "source": [
    "TEST_DF_RAW = dataframe_from_csvs(TEST_DATASET)\n",
    "TEST_DF_RAW"
   ]
  },
  {
   "cell_type": "markdown",
   "metadata": {},
   "source": [
    "테스트 데이터셋도 정상 데이터셋의 최솟값, 최댓값을 이용해서 정규화합니다."
   ]
  },
  {
   "cell_type": "code",
   "execution_count": null,
   "metadata": {},
   "outputs": [],
   "source": [
    "TEST_DF = normalize(TEST_DF_RAW[VALID_COLUMNS_IN_TRAIN_DATASET]).ewm(alpha=0.9).mean()\n",
    "TEST_DF"
   ]
  },
  {
   "cell_type": "markdown",
   "metadata": {},
   "source": [
    "테스트 데이터셋에 대해서도 만들어둔 함수를 이용해서 점검해봅니다.\n",
    "Not a number가 있는지 점검하는 것이 주요 목적입니다."
   ]
  },
  {
   "cell_type": "code",
   "execution_count": null,
   "metadata": {},
   "outputs": [],
   "source": [
    "boundary_check(TEST_DF)"
   ]
  },
  {
   "cell_type": "code",
   "execution_count": null,
   "metadata": {},
   "outputs": [],
   "source": [
    "HAI_DATASET_TEST = HaiDataset(\n",
    "    TEST_DF_RAW[TIMESTAMP_FIELD], TEST_DF, attacks=None\n",
    ")\n",
    "HAI_DATASET_VALIDATION[0]"
   ]
  },
  {
   "cell_type": "markdown",
   "metadata": {},
   "source": [
    "테스트 데이터셋에 대해서도 PyTorch Dataset 인스턴스를 만들었습니다. 모든 데이터 포인트에 대해 점검해야 하므로 검증 데이터 때와 마찬가지로 슬라이딩의 크기는 1로 두어야 합니다."
   ]
  },
  {
   "cell_type": "markdown",
   "metadata": {},
   "source": [
    "inference 함수로 데이터를 순차적으로 보면서 모델이 예측한 값과 실제 값의 차를 구해서 기록합니다."
   ]
  },
  {
   "cell_type": "code",
   "execution_count": null,
   "metadata": {},
   "outputs": [],
   "source": [
    "%%time\n",
    "MODEL.eval()\n",
    "CHECK_TS, CHECK_DIST, CHECK_ATT = inference(HAI_DATASET_TEST, MODEL, BATCH_SIZE)"
   ]
  },
  {
   "cell_type": "markdown",
   "metadata": {},
   "source": [
    "공격 여부 판단을 위해 같은 시각에서 전체 필드가 산출하는 차의 평균을 계산합니다."
   ]
  },
  {
   "cell_type": "code",
   "execution_count": null,
   "metadata": {},
   "outputs": [],
   "source": [
    "ANOMALY_SCORE = np.mean(CHECK_DIST, axis=1)"
   ]
  },
  {
   "cell_type": "markdown",
   "metadata": {},
   "source": [
    "결과를 눈으로 확인하기 위해 그래프를 그려보겠습니다."
   ]
  },
  {
   "cell_type": "code",
   "execution_count": null,
   "metadata": {},
   "outputs": [],
   "source": [
    "check_graph(ANOMALY_SCORE, CHECK_ATT, piece=3, THRESHOLD=THRESHOLD)"
   ]
  },
  {
   "cell_type": "markdown",
   "metadata": {},
   "source": [
    "검증 데이터셋을 이용해 찾은 threshold를 이용해 공격 여부를 예측합니다."
   ]
  },
  {
   "cell_type": "code",
   "execution_count": null,
   "metadata": {},
   "outputs": [],
   "source": [
    "LABELS = put_labels(ANOMALY_SCORE, THRESHOLD)\n",
    "LABELS, LABELS.shape"
   ]
  },
  {
   "cell_type": "markdown",
   "metadata": {},
   "source": [
    "예측한 결과를 제출양식에 맞춰 저장합니다."
   ]
  },
  {
   "cell_type": "code",
   "execution_count": null,
   "metadata": {},
   "outputs": [],
   "source": [
    "submission = pd.read_csv('data/sample_submission.csv')\n",
    "submission.index = submission['time']\n",
    "submission.loc[CHECK_TS,'attack'] = LABELS\n",
    "submission"
   ]
  },
  {
   "cell_type": "markdown",
   "metadata": {},
   "source": [
    "예측한 결과를 저장하여 제출합니다."
   ]
  },
  {
   "cell_type": "code",
   "execution_count": null,
   "metadata": {},
   "outputs": [],
   "source": [
    "submission.to_csv('baseline.csv', index=False)"
   ]
  },
  {
   "cell_type": "markdown",
   "metadata": {},
   "source": [
    "---\n",
    "**Copyright 2020. ETRI부설국가보안기술연구소. All rights reserved.**"
   ]
  }
 ],
 "metadata": {
  "kernelspec": {
   "display_name": "Python 3",
   "language": "python",
   "name": "python3"
  },
  "language_info": {
   "codemirror_mode": {
    "name": "ipython",
    "version": 3
   },
   "file_extension": ".py",
   "mimetype": "text/x-python",
   "name": "python",
   "nbconvert_exporter": "python",
   "pygments_lexer": "ipython3",
   "version": "3.8.10"
  }
 },
 "nbformat": 4,
 "nbformat_minor": 4
}
